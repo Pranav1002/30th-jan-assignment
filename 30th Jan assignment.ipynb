{
 "cells": [
  {
   "cell_type": "code",
   "execution_count": 2,
   "id": "819ce84c-27ef-4c81-a946-a3ca4d737d51",
   "metadata": {},
   "outputs": [
    {
     "name": "stdin",
     "output_type": "stream",
     "text": [
      "Enter your marks :  70\n"
     ]
    },
    {
     "name": "stdout",
     "output_type": "stream",
     "text": [
      "C\n"
     ]
    }
   ],
   "source": [
    "#1) read marks from user and give grade\n",
    "\n",
    "marks=int(input('Enter your marks : '))\n",
    "\n",
    "if(marks>90):\n",
    "    print('Grade : ','A')\n",
    "elif(marks>80 and marks<=90):\n",
    "    print('Grade : ','B')\n",
    "elif(marks>=60 and marks<=80):\n",
    "    print('Grade : ','C')\n",
    "else:\n",
    "    print('Grade : ','D')"
   ]
  },
  {
   "cell_type": "code",
   "execution_count": 6,
   "id": "b3a8c654-9ba7-462c-bb1c-84d10f05f278",
   "metadata": {},
   "outputs": [
    {
     "name": "stdin",
     "output_type": "stream",
     "text": [
      "Enter the cost price of the bike : 370000\n"
     ]
    },
    {
     "name": "stdout",
     "output_type": "stream",
     "text": [
      "15%\n"
     ]
    }
   ],
   "source": [
    "#2) Reading cost price of bike from user and display percentage of tax\n",
    "\n",
    "cost=int(input('Enter the cost price of the bike :'))\n",
    "\n",
    "if(cost>100000):\n",
    "    print('Tax : ','15%')\n",
    "elif(cost<=100000 and cost>50000):\n",
    "    print('Tax : ','10%')\n",
    "elif(cost<=50000):\n",
    "    print('Tax : ','5%')"
   ]
  },
  {
   "cell_type": "code",
   "execution_count": 7,
   "id": "8ab6e51f-71ff-4f54-aef6-1f1957700bd3",
   "metadata": {},
   "outputs": [
    {
     "name": "stdin",
     "output_type": "stream",
     "text": [
      "Enter the city name :  Agra\n"
     ]
    },
    {
     "name": "stdout",
     "output_type": "stream",
     "text": [
      "Taj Mahal\n"
     ]
    }
   ],
   "source": [
    "#3) city and its monument\n",
    "\n",
    "city=str(input('Enter the city name : '))\n",
    "\n",
    "if(city=='Delhi'):\n",
    "    print('Monument : ','Red Fort')\n",
    "elif(city=='Agra'):\n",
    "    print('Monument : ','Taj Mahal')\n",
    "elif(city=='Jaipur'):\n",
    "    print('Monument : ','Jal Mahal')"
   ]
  },
  {
   "cell_type": "code",
   "execution_count": 8,
   "id": "a543faa9-9b75-4a21-85a0-4571d650d7a6",
   "metadata": {},
   "outputs": [
    {
     "name": "stdin",
     "output_type": "stream",
     "text": [
      "Enter the number :  6\n"
     ]
    },
    {
     "name": "stdout",
     "output_type": "stream",
     "text": [
      "2\n"
     ]
    }
   ],
   "source": [
    "#4) divsible by 3 until n<=10\n",
    "\n",
    "n=int(input('Enter the number : '))\n",
    "\n",
    "count=0\n",
    "\n",
    "while n<=10:\n",
    "    if(n%3==0):\n",
    "        count+=1\n",
    "    n+=1\n",
    "print(count)"
   ]
  },
  {
   "cell_type": "code",
   "execution_count": 10,
   "id": "a47a6f7a-430c-4fe2-9e5f-77a98e8e8c7c",
   "metadata": {},
   "outputs": [
    {
     "name": "stdout",
     "output_type": "stream",
     "text": [
      "1\n",
      "2\n",
      "3\n",
      "4\n",
      "5\n",
      "6\n",
      "7\n",
      "8\n",
      "9\n",
      "10\n"
     ]
    }
   ],
   "source": [
    "#5) Why and when to use loop in python\n",
    "\n",
    "# --> A for loop is used for iterating over a sequence (that is either a list, a tuple, a dictionary, a set, or a string).\n",
    "# --> A loop is used to repeat a block of code for given number of times or until the fullifillment of the given condition.\n",
    "\n",
    "#     Ex. If I want to print first 10 natural number. I should use loop instead of writing ten lines of code.\n",
    "for i in range(1,11):\n",
    "    print(i)"
   ]
  },
  {
   "cell_type": "code",
   "execution_count": 2,
   "id": "3fb9d000-9d4e-47a2-b6ba-0b71f20737fe",
   "metadata": {},
   "outputs": [
    {
     "name": "stdout",
     "output_type": "stream",
     "text": [
      "1st pattern\n",
      "* \n",
      "* * \n",
      "* * * \n",
      "* * * * \n",
      "* * * * * \n",
      "\n",
      "2nd pattern\n",
      "* * * * * \n",
      "* * * * \n",
      "* * * \n",
      "* * \n",
      "* \n",
      "\n",
      "3rd pattern\n",
      "1 \n",
      "1 2 \n",
      "1 2 3 \n",
      "1 2 3 4 \n",
      "1 2 3 4 5 \n",
      "\n"
     ]
    }
   ],
   "source": [
    "#6) print 3 different pattern using while loop\n",
    "\n",
    "# i) First pattern\n",
    "print('1st pattern')\n",
    "i=1\n",
    "\n",
    "while i<=5:\n",
    "    j=1\n",
    "    while j<=i:\n",
    "        print('*',end=\" \")\n",
    "        j+=1\n",
    "    print()\n",
    "    i+=1\n",
    "print()\n",
    "    \n",
    "# ii) Second pattern\n",
    "print('2nd pattern')\n",
    "\n",
    "i=1\n",
    "\n",
    "while i<=5:\n",
    "    j=5\n",
    "    while j>=i:\n",
    "        print('*',end=' ')\n",
    "        j-=1\n",
    "    print()\n",
    "    i+=1\n",
    "print()\n",
    "\n",
    "# iii) Third pattern\n",
    "print('3rd pattern')\n",
    "\n",
    "i=1\n",
    "while i<=5:\n",
    "    j=1\n",
    "    while j<=i:\n",
    "        print(j,end=' ')\n",
    "        j+=1\n",
    "    print()\n",
    "    i+=1\n",
    "print()\n"
   ]
  },
  {
   "cell_type": "code",
   "execution_count": 3,
   "id": "dacaf12c-821b-48dc-92ac-7c88b2ec1502",
   "metadata": {},
   "outputs": [
    {
     "name": "stdout",
     "output_type": "stream",
     "text": [
      "10\n",
      "9\n",
      "8\n",
      "7\n",
      "6\n",
      "5\n",
      "4\n",
      "3\n",
      "2\n",
      "1\n"
     ]
    }
   ],
   "source": [
    "#7) Display 10 to 1\n",
    "\n",
    "i=10\n",
    "\n",
    "while i>0:\n",
    "    print(i)\n",
    "    i-=1"
   ]
  },
  {
   "cell_type": "code",
   "execution_count": null,
   "id": "9e5c0333-7431-4d71-a022-58df4906a5bd",
   "metadata": {},
   "outputs": [],
   "source": [
    "#) Display 10 to 1\n",
    "\n",
    "i=10\n",
    "\n",
    "while i>0:\n",
    "    print(i)\n",
    "    i-=1"
   ]
  }
 ],
 "metadata": {
  "kernelspec": {
   "display_name": "Python 3 (ipykernel)",
   "language": "python",
   "name": "python3"
  },
  "language_info": {
   "codemirror_mode": {
    "name": "ipython",
    "version": 3
   },
   "file_extension": ".py",
   "mimetype": "text/x-python",
   "name": "python",
   "nbconvert_exporter": "python",
   "pygments_lexer": "ipython3",
   "version": "3.10.8"
  }
 },
 "nbformat": 4,
 "nbformat_minor": 5
}
